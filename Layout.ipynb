{
 "cells": [
  {
   "cell_type": "markdown",
   "id": "51cb5799",
   "metadata": {},
   "source": [
    "# Introduction"
   ]
  },
  {
   "cell_type": "markdown",
   "id": "c67fe910",
   "metadata": {},
   "source": [
    "Imagine in the real world, you would like to have a sketch-up of a beautiful scene near a river. To have the sketch-up, you need a canvas, papers and pens. You hold the pens to draw on the papers attached to the canvas.   \n",
    "\n",
    "Matplotlib virtualise this drawing concept. To draw any plot, you need a canvas, in what ways to draw (renderer), and papers (figure). Details of the Canvas and Renderer have been hidden by Matplotlib and thus they are \"Backend\" you normally cannot see. Figure is something you can see and manipulate, from its size to color of the plotting objects on it and thus they are \"Frontend\" you can see. Our journey starts from Figure.\n",
    "\n",
    "![canvas](canvas.jpeg)\n",
    "\n",
    "Image from [How to transfer your drawing or sketch to canvas with artist Tim Gagnon](https://www.youtube.com/watch?v=I1p4LE7Qo6c)"
   ]
  },
  {
   "cell_type": "markdown",
   "id": "397158e4",
   "metadata": {},
   "source": [
    "# Figure, Axes, Axis & Artists"
   ]
  },
  {
   "cell_type": "markdown",
   "id": "b54293b0",
   "metadata": {},
   "source": [
    "Imagine `Figure` as the paper above you wanna draw on. Everything depends on it. Without the `Figure`, you see nothing. \n",
    "\n",
    "`Axes` is a specific region of a plot while `Axis` is the axis in mathematical sense on `Axes.\n",
    "\n",
    "In a much broader sense, `Artist` is a virtualised concept referring to any plotting object, from `Figure`, `Axes` to `Line2D` (line object), `Patch` (colored polygon object). However, I tend to think of it as plotting object on `Axes`, in a narrow sense. This won't affect our learning (especially in reading the documentation) for most of the time."
   ]
  },
  {
   "cell_type": "markdown",
   "id": "0b6002e4",
   "metadata": {},
   "source": [
    "![anatomy](anatomy.png)"
   ]
  },
  {
   "cell_type": "markdown",
   "id": "b2d6ef8a",
   "metadata": {},
   "source": [
    "# APIs & Learning Resources"
   ]
  },
  {
   "cell_type": "markdown",
   "id": "91956d44",
   "metadata": {},
   "source": [
    "In general, Matplotlib has two API entries for most of its functionality, which are the `pyplot` convenience wrapper interface and the `object-oriented (OO) style` interface. \n",
    "\n",
    "Majority of the current matplotlib documentation would discourage the use of `pyplot` interface and encourage the use of the `object-oriented (OO) style` interface because you can only control the details in the OO style but not in `pyplot` style for most of the time. \n",
    "\n",
    "However, some niche corners of the documentation and also my opinion would say that `pyplot`, rather than a discouraged interface, is a convenience wrapper of matplotlib functionalities and something you can only do in `pyplot` but not in `OO` (well, I mean, not in the style of `ax.something`).\n",
    "\n",
    "The follwings are official learning resources of matplotlib."
   ]
  },
  {
   "cell_type": "markdown",
   "id": "14959d3f",
   "metadata": {},
   "source": [
    "**Resources**\n",
    "\n",
    "Note here I use `devdocs` version of the documentation rather than `stable` version because I think the style of `devdocs` version is more clear, and aligned with other numeric package documentation (e.g. `numpy`, `pandas`).  \n",
    "\n",
    "* [Usage Guide](https://matplotlib.org/devdocs/tutorials/introductory/usage.html) - Overview\n",
    "* [Tutorials](https://matplotlib.org/devdocs/tutorials/index.html) - General functionalities you'll encounter in every plot\n",
    "* [Gallery](https://matplotlib.org/devdocs/gallery/index.html) - Types of plots (not only useful in showing you how that plot is drawn, but also visual explanations of the parameters lack in some API documentation)\n",
    "* [Reference](https://matplotlib.org/devdocs/api/index.html) - APIs"
   ]
  },
  {
   "cell_type": "markdown",
   "id": "04a618e3",
   "metadata": {},
   "source": [
    "# Layout"
   ]
  },
  {
   "cell_type": "markdown",
   "id": "00a44738",
   "metadata": {},
   "source": [
    "Well, finally we come to this file's focus point, the layout"
   ]
  },
  {
   "cell_type": "code",
   "execution_count": null,
   "id": "045bcbdc",
   "metadata": {},
   "outputs": [],
   "source": []
  },
  {
   "cell_type": "code",
   "execution_count": null,
   "id": "8a88601b",
   "metadata": {},
   "outputs": [],
   "source": []
  },
  {
   "cell_type": "code",
   "execution_count": null,
   "id": "2f87a1ea",
   "metadata": {},
   "outputs": [],
   "source": []
  },
  {
   "cell_type": "code",
   "execution_count": null,
   "id": "1eb6d1a2",
   "metadata": {},
   "outputs": [],
   "source": []
  },
  {
   "cell_type": "markdown",
   "id": "41326c4f",
   "metadata": {},
   "source": [
    "**Resources**\n",
    "\n",
    "Guides\n",
    "\n",
    "* [Customizing Figure Layouts Using GridSpec and Other Functions](https://matplotlib.org/devdocs/tutorials/intermediate/gridspec.html)\n",
    "* [Constrained Layout Guide](https://matplotlib.org/devdocs/tutorials/intermediate/constrainedlayout_guide.html)\n",
    "* [Tight Layout guide](https://matplotlib.org/devdocs/tutorials/intermediate/tight_layout_guide.html)\n",
    "\n",
    "Gallery\n",
    "\n"
   ]
  },
  {
   "cell_type": "code",
   "execution_count": null,
   "id": "60624f92",
   "metadata": {},
   "outputs": [],
   "source": []
  },
  {
   "cell_type": "code",
   "execution_count": null,
   "id": "0daacfc3",
   "metadata": {},
   "outputs": [],
   "source": []
  },
  {
   "cell_type": "code",
   "execution_count": null,
   "id": "164a2f47",
   "metadata": {},
   "outputs": [],
   "source": []
  },
  {
   "cell_type": "code",
   "execution_count": null,
   "id": "57e6cf99",
   "metadata": {},
   "outputs": [],
   "source": []
  },
  {
   "cell_type": "code",
   "execution_count": null,
   "id": "2d591e0d",
   "metadata": {},
   "outputs": [],
   "source": []
  },
  {
   "cell_type": "code",
   "execution_count": null,
   "id": "9a595d4b",
   "metadata": {},
   "outputs": [],
   "source": []
  },
  {
   "cell_type": "code",
   "execution_count": null,
   "id": "70f7390d",
   "metadata": {},
   "outputs": [],
   "source": []
  }
 ],
 "metadata": {
  "kernelspec": {
   "display_name": "Python 3",
   "language": "python",
   "name": "python3"
  },
  "language_info": {
   "codemirror_mode": {
    "name": "ipython",
    "version": 3
   },
   "file_extension": ".py",
   "mimetype": "text/x-python",
   "name": "python",
   "nbconvert_exporter": "python",
   "pygments_lexer": "ipython3",
   "version": "3.9.4"
  },
  "toc": {
   "base_numbering": 1,
   "nav_menu": {},
   "number_sections": true,
   "sideBar": true,
   "skip_h1_title": false,
   "title_cell": "Table of Contents",
   "title_sidebar": "Contents",
   "toc_cell": false,
   "toc_position": {},
   "toc_section_display": true,
   "toc_window_display": false
  },
  "varInspector": {
   "cols": {
    "lenName": 16,
    "lenType": 16,
    "lenVar": 40
   },
   "kernels_config": {
    "python": {
     "delete_cmd_postfix": "",
     "delete_cmd_prefix": "del ",
     "library": "var_list.py",
     "varRefreshCmd": "print(var_dic_list())"
    },
    "r": {
     "delete_cmd_postfix": ") ",
     "delete_cmd_prefix": "rm(",
     "library": "var_list.r",
     "varRefreshCmd": "cat(var_dic_list()) "
    }
   },
   "types_to_exclude": [
    "module",
    "function",
    "builtin_function_or_method",
    "instance",
    "_Feature"
   ],
   "window_display": false
  }
 },
 "nbformat": 4,
 "nbformat_minor": 5
}
